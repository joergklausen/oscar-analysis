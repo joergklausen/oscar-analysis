{
 "cells": [
  {
   "cell_type": "code",
   "execution_count": 107,
   "metadata": {},
   "outputs": [],
   "source": [
    "import xml.etree.ElementTree as ET\n",
    "import urllib.request\n",
    "import csv\n",
    "import requests\n",
    "from bs4 import BeautifulSoup\n",
    "from urllib.request import urlopen\n",
    "import json\n",
    "import re\n"
   ]
  },
  {
   "cell_type": "code",
   "execution_count": 131,
   "metadata": {},
   "outputs": [
    {
     "name": "stdout",
     "output_type": "stream",
     "text": [
      "['0-404-300-301570787AS00074', '0-404-300-402261127AS63663', '0-404-300-271440721AS00049', '0-404-300-281480740AS00057', '0-404-0-63707', '0-404-300-392191090AS63662', '0-404-0-63721', '0-404-300-040200100AS00113', '0-404-300-040200098AS00112', '0-404-300-301620807AS00073', '0-404-300-301580790AS00071', '0-404-300-402251125AS00038', '0-404-300-402281141AS00036', '0-404-300-402291146AS00033', '0-404-300-392181085AS63660', '0-404-300-361950974AS00015', '0-20000-0-63741', '0-404-300-472781389AS63747', '0-404-300-100470235AS00114', '0-404-300-372081037AS00024', '0-404-300-372000999AS00025', '0-404-300-372031019AS00022', '0-404-300-372101048AS00026', '0-20000-0-63688', '0-404-300-63686', '0-20000-0-63720', '0-404-0-63719', '0-404-300-341870932AS00005', '0-404-300-341840918A00001', '0-404-300-050210101AS00090', '0-404-0-63670', '0-20000-0-63723', '0-404-300-190950473AS00101', '0-404-300-060230111AS00047', '0-404-300-190950476AS00099', '0-404-300-070320150AS00107', '0-404-300-341840918AS00001', '0-404-300-160810398AS00009', '0-404-300-070320160AS00106', '0-20000-0-63740', '0-20000-0-63687', '0-404-300-372021012AS63681', '0-404-300-060260128AS00044', '0-404-300-422381186AS00032', '0-404-300-422441219AS00030', '0-20000-0-63710', '0-404-300-180900451AS00068', '0-404-300-180910456AS00066', '0-20000-0-63709', '0-20000-0-63708', '0-20000-0-63661', '0-404-300-130620310AS00094', '0-404-300-241310651AS00060', '0-404-300-241320659AS00061', '0-404-300-281480736AS00055', '0-404-300-361940967AS00013', '0-404-300-271440720AS00050', '0-404-300-281470731AS00056', '0-404-300-190950474AS00097', '0-404-300-060260129AS00045', '0-404-300-160800394AS00007', '0-404-300-190990492AS00100', '0-404-300-311650824AS00083', '0-404-300-311630813AS00080', '0-404-300-110490247AS00076', '0-404-300-351930965AS00017', '0-404-300-301620809AS00072', '0-404-300-271410712AS00051', '0-20000-0-63772', '0-20000-0-63612', '0-404-0-63616', '0-404-300-100480240AS00118', '0-404-300-351900945AS00016', '0-404-300-311650825AS00084', '0-20000-0-63766', '0-20000-0-63799', '0-20000-0-63624', '0-20000-0-63641', '0-20000-0-63695', '0-404-300-070300151AS00102', '0-20000-0-63820', '0-20000-0-63619', '0-404-300-070290143AS00104', '0-404-300-160810399AS00008', '0-404-300-180890448AS00069', '0-404-300-100460229AS00115', '0-20008-0-MLD', '0-404-300-050220106AS00085', '0-404-300-060250123AS00046', '0-404-300-100450223AS00117', '0-404-300-412351172AS00042', '0-404-300-422391195AS00027', '0-404-300-341850925AS00003', '0-404-300-160750372AS00010', '0-404-300-130620309AS00095', '0-404-300-130620306AS00096', '0-404-300-281500750AS00054', '0-404-300-361980988AS00012', '0-20008-0-MKN', '0-404-300-412321160AS00043', '0-404-300-422431215AS00031', '0-404-300-190950475AS00098', '0-20000-0-63714', '0-20000-0-63737', '0-404-300-040190094AS00108', '0-404-300-341830914AS63738', '0-20000-0-63717', '0-404-300-050220106AS00086', '0-404-300-050220110AS00088', '0-404-300-050220109AS00087', '0-20008-0-NRB', '0-404-300-1320657AS00062', '0-404-300-180930464AS00065', '0-404-300-361940966AS00014', '0-404-300-361980989AS00120', '0-404-300-311640818AS00081', '0-404-300-301600800AS00075', '0-404-300-301570781AS00070', '0-404-300-130620310AS00093', '0-404-300-412341168AS00041', '0-404-300-341860928AS00006', '0-404-300-412371182AS00039', '0-404-300-040180086AS00110', '0-404-300-341850924AS00004', '0-404-300-341850921AS00002', '0-404-301-8501MALINDI', '0-404-301-8501Mlindi', '0-404-0-63796', '0-20000-0-63711', '0-404-300-070280138AS00103', '0-404-300-402301149AS00034', '0-404-300-110500250AS00078', '0-404-300-180930465AS00064', '0-404-300-070290142AS00105', '0-404-300-241300650AS00063', '0-404-300-351890942AS00020', '0-404-300-100450222AS00116', '0-404-300-150710352AS00119', '0-404-300-241290646AS00059', '0-404-300-402261131AS00035', '0-404-300-402271135AS00037', '0-404-300-311630822AS00079', '0-404-300-130620310AS00091', '0-404-300-130610305AS00092', '0-404-300-311640818AS00082', '0-404-300-271460730AS00052', '0-404-300-271460730AS00048', '0-404-300-271430718AS00053', '0-404-300-412361175AS00040', '0-20000-0-63793', '0-20000-0-63671', '0-20000-0-63742', '0-404-300-040190095AS00111', '0-404-300-180900449AS00067', '0-22000-0-1901045', '0-22000-0-1901046', '0-22000-0-1901047', '0-22000-0-1901048', '0-22000-0-1901049']\n"
     ]
    }
   ],
   "source": [
    "#### Get WIGOS IDs for all stations catalogued in a country ####\n",
    "\n",
    "country = \"KEN\"\n",
    "\n",
    "# API: all stations as json\n",
    "all_stations_KEN_url = \"https://oscar.wmo.int/surface/rest/api/search/station?territoryName=\"+country\n",
    "\n",
    "\n",
    "response = urlopen(all_stations_KEN_url)\n",
    "data_json = json.loads(response.read())\n",
    "stations = data_json[\"stationSearchResults\"]\n",
    "\n",
    "wigosIds = []\n",
    "\n",
    "for station in data_json[\"stationSearchResults\"]:\n",
    "    # print(station[\"wigosId\"])\n",
    "    wigosId = str(station[\"wigosId\"])\n",
    "    wigosIds.append(wigosId)\n",
    "\n",
    "print(wigosIds)"
   ]
  },
  {
   "cell_type": "code",
   "execution_count": 133,
   "metadata": {},
   "outputs": [
    {
     "name": "stdout",
     "output_type": "stream",
     "text": [
      "['https://oscar.wmo.int/oai/provider?verb=GetRecord&metadataPrefix=wmdr&identifier=%200-404-300-301570787AS00074', 'https://oscar.wmo.int/oai/provider?verb=GetRecord&metadataPrefix=wmdr&identifier=%200-404-300-402261127AS63663', 'https://oscar.wmo.int/oai/provider?verb=GetRecord&metadataPrefix=wmdr&identifier=%200-404-300-271440721AS00049', 'https://oscar.wmo.int/oai/provider?verb=GetRecord&metadataPrefix=wmdr&identifier=%200-404-300-281480740AS00057', 'https://oscar.wmo.int/oai/provider?verb=GetRecord&metadataPrefix=wmdr&identifier=%200-404-0-63707', 'https://oscar.wmo.int/oai/provider?verb=GetRecord&metadataPrefix=wmdr&identifier=%200-404-300-392191090AS63662', 'https://oscar.wmo.int/oai/provider?verb=GetRecord&metadataPrefix=wmdr&identifier=%200-404-0-63721', 'https://oscar.wmo.int/oai/provider?verb=GetRecord&metadataPrefix=wmdr&identifier=%200-404-300-040200100AS00113', 'https://oscar.wmo.int/oai/provider?verb=GetRecord&metadataPrefix=wmdr&identifier=%200-404-300-040200098AS00112', 'https://oscar.wmo.int/oai/provider?verb=GetRecord&metadataPrefix=wmdr&identifier=%200-404-300-301620807AS00073', 'https://oscar.wmo.int/oai/provider?verb=GetRecord&metadataPrefix=wmdr&identifier=%200-404-300-301580790AS00071', 'https://oscar.wmo.int/oai/provider?verb=GetRecord&metadataPrefix=wmdr&identifier=%200-404-300-402251125AS00038', 'https://oscar.wmo.int/oai/provider?verb=GetRecord&metadataPrefix=wmdr&identifier=%200-404-300-402281141AS00036', 'https://oscar.wmo.int/oai/provider?verb=GetRecord&metadataPrefix=wmdr&identifier=%200-404-300-402291146AS00033', 'https://oscar.wmo.int/oai/provider?verb=GetRecord&metadataPrefix=wmdr&identifier=%200-404-300-392181085AS63660', 'https://oscar.wmo.int/oai/provider?verb=GetRecord&metadataPrefix=wmdr&identifier=%200-404-300-361950974AS00015', 'https://oscar.wmo.int/oai/provider?verb=GetRecord&metadataPrefix=wmdr&identifier=%200-20000-0-63741', 'https://oscar.wmo.int/oai/provider?verb=GetRecord&metadataPrefix=wmdr&identifier=%200-404-300-472781389AS63747', 'https://oscar.wmo.int/oai/provider?verb=GetRecord&metadataPrefix=wmdr&identifier=%200-404-300-100470235AS00114', 'https://oscar.wmo.int/oai/provider?verb=GetRecord&metadataPrefix=wmdr&identifier=%200-404-300-372081037AS00024', 'https://oscar.wmo.int/oai/provider?verb=GetRecord&metadataPrefix=wmdr&identifier=%200-404-300-372000999AS00025', 'https://oscar.wmo.int/oai/provider?verb=GetRecord&metadataPrefix=wmdr&identifier=%200-404-300-372031019AS00022', 'https://oscar.wmo.int/oai/provider?verb=GetRecord&metadataPrefix=wmdr&identifier=%200-404-300-372101048AS00026', 'https://oscar.wmo.int/oai/provider?verb=GetRecord&metadataPrefix=wmdr&identifier=%200-20000-0-63688', 'https://oscar.wmo.int/oai/provider?verb=GetRecord&metadataPrefix=wmdr&identifier=%200-404-300-63686', 'https://oscar.wmo.int/oai/provider?verb=GetRecord&metadataPrefix=wmdr&identifier=%200-20000-0-63720', 'https://oscar.wmo.int/oai/provider?verb=GetRecord&metadataPrefix=wmdr&identifier=%200-404-0-63719', 'https://oscar.wmo.int/oai/provider?verb=GetRecord&metadataPrefix=wmdr&identifier=%200-404-300-341870932AS00005', 'https://oscar.wmo.int/oai/provider?verb=GetRecord&metadataPrefix=wmdr&identifier=%200-404-300-341840918A00001', 'https://oscar.wmo.int/oai/provider?verb=GetRecord&metadataPrefix=wmdr&identifier=%200-404-300-050210101AS00090', 'https://oscar.wmo.int/oai/provider?verb=GetRecord&metadataPrefix=wmdr&identifier=%200-404-0-63670', 'https://oscar.wmo.int/oai/provider?verb=GetRecord&metadataPrefix=wmdr&identifier=%200-20000-0-63723', 'https://oscar.wmo.int/oai/provider?verb=GetRecord&metadataPrefix=wmdr&identifier=%200-404-300-190950473AS00101', 'https://oscar.wmo.int/oai/provider?verb=GetRecord&metadataPrefix=wmdr&identifier=%200-404-300-060230111AS00047', 'https://oscar.wmo.int/oai/provider?verb=GetRecord&metadataPrefix=wmdr&identifier=%200-404-300-190950476AS00099', 'https://oscar.wmo.int/oai/provider?verb=GetRecord&metadataPrefix=wmdr&identifier=%200-404-300-070320150AS00107', 'https://oscar.wmo.int/oai/provider?verb=GetRecord&metadataPrefix=wmdr&identifier=%200-404-300-341840918AS00001', 'https://oscar.wmo.int/oai/provider?verb=GetRecord&metadataPrefix=wmdr&identifier=%200-404-300-160810398AS00009', 'https://oscar.wmo.int/oai/provider?verb=GetRecord&metadataPrefix=wmdr&identifier=%200-404-300-070320160AS00106', 'https://oscar.wmo.int/oai/provider?verb=GetRecord&metadataPrefix=wmdr&identifier=%200-20000-0-63740', 'https://oscar.wmo.int/oai/provider?verb=GetRecord&metadataPrefix=wmdr&identifier=%200-20000-0-63687', 'https://oscar.wmo.int/oai/provider?verb=GetRecord&metadataPrefix=wmdr&identifier=%200-404-300-372021012AS63681', 'https://oscar.wmo.int/oai/provider?verb=GetRecord&metadataPrefix=wmdr&identifier=%200-404-300-060260128AS00044', 'https://oscar.wmo.int/oai/provider?verb=GetRecord&metadataPrefix=wmdr&identifier=%200-404-300-422381186AS00032', 'https://oscar.wmo.int/oai/provider?verb=GetRecord&metadataPrefix=wmdr&identifier=%200-404-300-422441219AS00030', 'https://oscar.wmo.int/oai/provider?verb=GetRecord&metadataPrefix=wmdr&identifier=%200-20000-0-63710', 'https://oscar.wmo.int/oai/provider?verb=GetRecord&metadataPrefix=wmdr&identifier=%200-404-300-180900451AS00068', 'https://oscar.wmo.int/oai/provider?verb=GetRecord&metadataPrefix=wmdr&identifier=%200-404-300-180910456AS00066', 'https://oscar.wmo.int/oai/provider?verb=GetRecord&metadataPrefix=wmdr&identifier=%200-20000-0-63709', 'https://oscar.wmo.int/oai/provider?verb=GetRecord&metadataPrefix=wmdr&identifier=%200-20000-0-63708', 'https://oscar.wmo.int/oai/provider?verb=GetRecord&metadataPrefix=wmdr&identifier=%200-20000-0-63661', 'https://oscar.wmo.int/oai/provider?verb=GetRecord&metadataPrefix=wmdr&identifier=%200-404-300-130620310AS00094', 'https://oscar.wmo.int/oai/provider?verb=GetRecord&metadataPrefix=wmdr&identifier=%200-404-300-241310651AS00060', 'https://oscar.wmo.int/oai/provider?verb=GetRecord&metadataPrefix=wmdr&identifier=%200-404-300-241320659AS00061', 'https://oscar.wmo.int/oai/provider?verb=GetRecord&metadataPrefix=wmdr&identifier=%200-404-300-281480736AS00055', 'https://oscar.wmo.int/oai/provider?verb=GetRecord&metadataPrefix=wmdr&identifier=%200-404-300-361940967AS00013', 'https://oscar.wmo.int/oai/provider?verb=GetRecord&metadataPrefix=wmdr&identifier=%200-404-300-271440720AS00050', 'https://oscar.wmo.int/oai/provider?verb=GetRecord&metadataPrefix=wmdr&identifier=%200-404-300-281470731AS00056', 'https://oscar.wmo.int/oai/provider?verb=GetRecord&metadataPrefix=wmdr&identifier=%200-404-300-190950474AS00097', 'https://oscar.wmo.int/oai/provider?verb=GetRecord&metadataPrefix=wmdr&identifier=%200-404-300-060260129AS00045', 'https://oscar.wmo.int/oai/provider?verb=GetRecord&metadataPrefix=wmdr&identifier=%200-404-300-160800394AS00007', 'https://oscar.wmo.int/oai/provider?verb=GetRecord&metadataPrefix=wmdr&identifier=%200-404-300-190990492AS00100', 'https://oscar.wmo.int/oai/provider?verb=GetRecord&metadataPrefix=wmdr&identifier=%200-404-300-311650824AS00083', 'https://oscar.wmo.int/oai/provider?verb=GetRecord&metadataPrefix=wmdr&identifier=%200-404-300-311630813AS00080', 'https://oscar.wmo.int/oai/provider?verb=GetRecord&metadataPrefix=wmdr&identifier=%200-404-300-110490247AS00076', 'https://oscar.wmo.int/oai/provider?verb=GetRecord&metadataPrefix=wmdr&identifier=%200-404-300-351930965AS00017', 'https://oscar.wmo.int/oai/provider?verb=GetRecord&metadataPrefix=wmdr&identifier=%200-404-300-301620809AS00072', 'https://oscar.wmo.int/oai/provider?verb=GetRecord&metadataPrefix=wmdr&identifier=%200-404-300-271410712AS00051', 'https://oscar.wmo.int/oai/provider?verb=GetRecord&metadataPrefix=wmdr&identifier=%200-20000-0-63772', 'https://oscar.wmo.int/oai/provider?verb=GetRecord&metadataPrefix=wmdr&identifier=%200-20000-0-63612', 'https://oscar.wmo.int/oai/provider?verb=GetRecord&metadataPrefix=wmdr&identifier=%200-404-0-63616', 'https://oscar.wmo.int/oai/provider?verb=GetRecord&metadataPrefix=wmdr&identifier=%200-404-300-100480240AS00118', 'https://oscar.wmo.int/oai/provider?verb=GetRecord&metadataPrefix=wmdr&identifier=%200-404-300-351900945AS00016', 'https://oscar.wmo.int/oai/provider?verb=GetRecord&metadataPrefix=wmdr&identifier=%200-404-300-311650825AS00084', 'https://oscar.wmo.int/oai/provider?verb=GetRecord&metadataPrefix=wmdr&identifier=%200-20000-0-63766', 'https://oscar.wmo.int/oai/provider?verb=GetRecord&metadataPrefix=wmdr&identifier=%200-20000-0-63799', 'https://oscar.wmo.int/oai/provider?verb=GetRecord&metadataPrefix=wmdr&identifier=%200-20000-0-63624', 'https://oscar.wmo.int/oai/provider?verb=GetRecord&metadataPrefix=wmdr&identifier=%200-20000-0-63641', 'https://oscar.wmo.int/oai/provider?verb=GetRecord&metadataPrefix=wmdr&identifier=%200-20000-0-63695', 'https://oscar.wmo.int/oai/provider?verb=GetRecord&metadataPrefix=wmdr&identifier=%200-404-300-070300151AS00102', 'https://oscar.wmo.int/oai/provider?verb=GetRecord&metadataPrefix=wmdr&identifier=%200-20000-0-63820', 'https://oscar.wmo.int/oai/provider?verb=GetRecord&metadataPrefix=wmdr&identifier=%200-20000-0-63619', 'https://oscar.wmo.int/oai/provider?verb=GetRecord&metadataPrefix=wmdr&identifier=%200-404-300-070290143AS00104', 'https://oscar.wmo.int/oai/provider?verb=GetRecord&metadataPrefix=wmdr&identifier=%200-404-300-160810399AS00008', 'https://oscar.wmo.int/oai/provider?verb=GetRecord&metadataPrefix=wmdr&identifier=%200-404-300-180890448AS00069', 'https://oscar.wmo.int/oai/provider?verb=GetRecord&metadataPrefix=wmdr&identifier=%200-404-300-100460229AS00115', 'https://oscar.wmo.int/oai/provider?verb=GetRecord&metadataPrefix=wmdr&identifier=%200-20008-0-MLD', 'https://oscar.wmo.int/oai/provider?verb=GetRecord&metadataPrefix=wmdr&identifier=%200-404-300-050220106AS00085', 'https://oscar.wmo.int/oai/provider?verb=GetRecord&metadataPrefix=wmdr&identifier=%200-404-300-060250123AS00046', 'https://oscar.wmo.int/oai/provider?verb=GetRecord&metadataPrefix=wmdr&identifier=%200-404-300-100450223AS00117', 'https://oscar.wmo.int/oai/provider?verb=GetRecord&metadataPrefix=wmdr&identifier=%200-404-300-412351172AS00042', 'https://oscar.wmo.int/oai/provider?verb=GetRecord&metadataPrefix=wmdr&identifier=%200-404-300-422391195AS00027', 'https://oscar.wmo.int/oai/provider?verb=GetRecord&metadataPrefix=wmdr&identifier=%200-404-300-341850925AS00003', 'https://oscar.wmo.int/oai/provider?verb=GetRecord&metadataPrefix=wmdr&identifier=%200-404-300-160750372AS00010', 'https://oscar.wmo.int/oai/provider?verb=GetRecord&metadataPrefix=wmdr&identifier=%200-404-300-130620309AS00095', 'https://oscar.wmo.int/oai/provider?verb=GetRecord&metadataPrefix=wmdr&identifier=%200-404-300-130620306AS00096', 'https://oscar.wmo.int/oai/provider?verb=GetRecord&metadataPrefix=wmdr&identifier=%200-404-300-281500750AS00054', 'https://oscar.wmo.int/oai/provider?verb=GetRecord&metadataPrefix=wmdr&identifier=%200-404-300-361980988AS00012', 'https://oscar.wmo.int/oai/provider?verb=GetRecord&metadataPrefix=wmdr&identifier=%200-20008-0-MKN', 'https://oscar.wmo.int/oai/provider?verb=GetRecord&metadataPrefix=wmdr&identifier=%200-404-300-412321160AS00043', 'https://oscar.wmo.int/oai/provider?verb=GetRecord&metadataPrefix=wmdr&identifier=%200-404-300-422431215AS00031', 'https://oscar.wmo.int/oai/provider?verb=GetRecord&metadataPrefix=wmdr&identifier=%200-404-300-190950475AS00098', 'https://oscar.wmo.int/oai/provider?verb=GetRecord&metadataPrefix=wmdr&identifier=%200-20000-0-63714', 'https://oscar.wmo.int/oai/provider?verb=GetRecord&metadataPrefix=wmdr&identifier=%200-20000-0-63737', 'https://oscar.wmo.int/oai/provider?verb=GetRecord&metadataPrefix=wmdr&identifier=%200-404-300-040190094AS00108', 'https://oscar.wmo.int/oai/provider?verb=GetRecord&metadataPrefix=wmdr&identifier=%200-404-300-341830914AS63738', 'https://oscar.wmo.int/oai/provider?verb=GetRecord&metadataPrefix=wmdr&identifier=%200-20000-0-63717', 'https://oscar.wmo.int/oai/provider?verb=GetRecord&metadataPrefix=wmdr&identifier=%200-404-300-050220106AS00086', 'https://oscar.wmo.int/oai/provider?verb=GetRecord&metadataPrefix=wmdr&identifier=%200-404-300-050220110AS00088', 'https://oscar.wmo.int/oai/provider?verb=GetRecord&metadataPrefix=wmdr&identifier=%200-404-300-050220109AS00087', 'https://oscar.wmo.int/oai/provider?verb=GetRecord&metadataPrefix=wmdr&identifier=%200-20008-0-NRB', 'https://oscar.wmo.int/oai/provider?verb=GetRecord&metadataPrefix=wmdr&identifier=%200-404-300-1320657AS00062', 'https://oscar.wmo.int/oai/provider?verb=GetRecord&metadataPrefix=wmdr&identifier=%200-404-300-180930464AS00065', 'https://oscar.wmo.int/oai/provider?verb=GetRecord&metadataPrefix=wmdr&identifier=%200-404-300-361940966AS00014', 'https://oscar.wmo.int/oai/provider?verb=GetRecord&metadataPrefix=wmdr&identifier=%200-404-300-361980989AS00120', 'https://oscar.wmo.int/oai/provider?verb=GetRecord&metadataPrefix=wmdr&identifier=%200-404-300-311640818AS00081', 'https://oscar.wmo.int/oai/provider?verb=GetRecord&metadataPrefix=wmdr&identifier=%200-404-300-301600800AS00075', 'https://oscar.wmo.int/oai/provider?verb=GetRecord&metadataPrefix=wmdr&identifier=%200-404-300-301570781AS00070', 'https://oscar.wmo.int/oai/provider?verb=GetRecord&metadataPrefix=wmdr&identifier=%200-404-300-130620310AS00093', 'https://oscar.wmo.int/oai/provider?verb=GetRecord&metadataPrefix=wmdr&identifier=%200-404-300-412341168AS00041', 'https://oscar.wmo.int/oai/provider?verb=GetRecord&metadataPrefix=wmdr&identifier=%200-404-300-341860928AS00006', 'https://oscar.wmo.int/oai/provider?verb=GetRecord&metadataPrefix=wmdr&identifier=%200-404-300-412371182AS00039', 'https://oscar.wmo.int/oai/provider?verb=GetRecord&metadataPrefix=wmdr&identifier=%200-404-300-040180086AS00110', 'https://oscar.wmo.int/oai/provider?verb=GetRecord&metadataPrefix=wmdr&identifier=%200-404-300-341850924AS00004', 'https://oscar.wmo.int/oai/provider?verb=GetRecord&metadataPrefix=wmdr&identifier=%200-404-300-341850921AS00002', 'https://oscar.wmo.int/oai/provider?verb=GetRecord&metadataPrefix=wmdr&identifier=%200-404-301-8501MALINDI', 'https://oscar.wmo.int/oai/provider?verb=GetRecord&metadataPrefix=wmdr&identifier=%200-404-301-8501Mlindi', 'https://oscar.wmo.int/oai/provider?verb=GetRecord&metadataPrefix=wmdr&identifier=%200-404-0-63796', 'https://oscar.wmo.int/oai/provider?verb=GetRecord&metadataPrefix=wmdr&identifier=%200-20000-0-63711', 'https://oscar.wmo.int/oai/provider?verb=GetRecord&metadataPrefix=wmdr&identifier=%200-404-300-070280138AS00103', 'https://oscar.wmo.int/oai/provider?verb=GetRecord&metadataPrefix=wmdr&identifier=%200-404-300-402301149AS00034', 'https://oscar.wmo.int/oai/provider?verb=GetRecord&metadataPrefix=wmdr&identifier=%200-404-300-110500250AS00078', 'https://oscar.wmo.int/oai/provider?verb=GetRecord&metadataPrefix=wmdr&identifier=%200-404-300-180930465AS00064', 'https://oscar.wmo.int/oai/provider?verb=GetRecord&metadataPrefix=wmdr&identifier=%200-404-300-070290142AS00105', 'https://oscar.wmo.int/oai/provider?verb=GetRecord&metadataPrefix=wmdr&identifier=%200-404-300-241300650AS00063', 'https://oscar.wmo.int/oai/provider?verb=GetRecord&metadataPrefix=wmdr&identifier=%200-404-300-351890942AS00020', 'https://oscar.wmo.int/oai/provider?verb=GetRecord&metadataPrefix=wmdr&identifier=%200-404-300-100450222AS00116', 'https://oscar.wmo.int/oai/provider?verb=GetRecord&metadataPrefix=wmdr&identifier=%200-404-300-150710352AS00119', 'https://oscar.wmo.int/oai/provider?verb=GetRecord&metadataPrefix=wmdr&identifier=%200-404-300-241290646AS00059', 'https://oscar.wmo.int/oai/provider?verb=GetRecord&metadataPrefix=wmdr&identifier=%200-404-300-402261131AS00035', 'https://oscar.wmo.int/oai/provider?verb=GetRecord&metadataPrefix=wmdr&identifier=%200-404-300-402271135AS00037', 'https://oscar.wmo.int/oai/provider?verb=GetRecord&metadataPrefix=wmdr&identifier=%200-404-300-311630822AS00079', 'https://oscar.wmo.int/oai/provider?verb=GetRecord&metadataPrefix=wmdr&identifier=%200-404-300-130620310AS00091', 'https://oscar.wmo.int/oai/provider?verb=GetRecord&metadataPrefix=wmdr&identifier=%200-404-300-130610305AS00092', 'https://oscar.wmo.int/oai/provider?verb=GetRecord&metadataPrefix=wmdr&identifier=%200-404-300-311640818AS00082', 'https://oscar.wmo.int/oai/provider?verb=GetRecord&metadataPrefix=wmdr&identifier=%200-404-300-271460730AS00052', 'https://oscar.wmo.int/oai/provider?verb=GetRecord&metadataPrefix=wmdr&identifier=%200-404-300-271460730AS00048', 'https://oscar.wmo.int/oai/provider?verb=GetRecord&metadataPrefix=wmdr&identifier=%200-404-300-271430718AS00053', 'https://oscar.wmo.int/oai/provider?verb=GetRecord&metadataPrefix=wmdr&identifier=%200-404-300-412361175AS00040', 'https://oscar.wmo.int/oai/provider?verb=GetRecord&metadataPrefix=wmdr&identifier=%200-20000-0-63793', 'https://oscar.wmo.int/oai/provider?verb=GetRecord&metadataPrefix=wmdr&identifier=%200-20000-0-63671', 'https://oscar.wmo.int/oai/provider?verb=GetRecord&metadataPrefix=wmdr&identifier=%200-20000-0-63742', 'https://oscar.wmo.int/oai/provider?verb=GetRecord&metadataPrefix=wmdr&identifier=%200-404-300-040190095AS00111', 'https://oscar.wmo.int/oai/provider?verb=GetRecord&metadataPrefix=wmdr&identifier=%200-404-300-180900449AS00067', 'https://oscar.wmo.int/oai/provider?verb=GetRecord&metadataPrefix=wmdr&identifier=%200-22000-0-1901045', 'https://oscar.wmo.int/oai/provider?verb=GetRecord&metadataPrefix=wmdr&identifier=%200-22000-0-1901046', 'https://oscar.wmo.int/oai/provider?verb=GetRecord&metadataPrefix=wmdr&identifier=%200-22000-0-1901047', 'https://oscar.wmo.int/oai/provider?verb=GetRecord&metadataPrefix=wmdr&identifier=%200-22000-0-1901048', 'https://oscar.wmo.int/oai/provider?verb=GetRecord&metadataPrefix=wmdr&identifier=%200-22000-0-1901049']\n"
     ]
    }
   ],
   "source": [
    "#### Get station xml Files via jOAI ####\n",
    "\n",
    "urls_jOAI = []\n",
    "\n",
    "for ID in wigosIds:\n",
    "    url = \"https://oscar.wmo.int/oai/provider?verb=GetRecord&metadataPrefix=wmdr&identifier=%20\" + ID\n",
    "    urls_jOAI.append(url)\n",
    "\n",
    "print(urls_jOAI)\n"
   ]
  },
  {
   "cell_type": "code",
   "execution_count": 139,
   "metadata": {},
   "outputs": [
    {
     "name": "stdout",
     "output_type": "stream",
     "text": [
      "[<om:observedProperty xlink:href=\"http://codes.wmo.int/wmdr/ObservedVariableAtmosphere/210\" xlink:type=\"simple\"/>, <om:observedProperty xlink:href=\"http://codes.wmo.int/wmdr/ObservedVariableAtmosphere/216\" xlink:type=\"simple\"/>, <om:observedProperty xlink:href=\"http://codes.wmo.int/wmdr/ObservedVariableAtmosphere/224\" xlink:type=\"simple\"/>, <om:observedProperty xlink:href=\"http://codes.wmo.int/wmdr/ObservedVariableAtmosphere/251\" xlink:type=\"simple\"/>, <om:observedProperty xlink:href=\"http://codes.wmo.int/wmdr/ObservedVariableAtmosphere/12005\" xlink:type=\"simple\"/>, <om:observedProperty xlink:href=\"http://codes.wmo.int/wmdr/ObservedVariableAtmosphere/12006\" xlink:type=\"simple\"/>]\n",
      "['210', '216', '224', '251', '12005', '12006']\n"
     ]
    }
   ],
   "source": [
    "# make xml file readable\n",
    "\n",
    "url = urls_jOAI[0]\n",
    "\n",
    "document = requests.get(url)\n",
    "\n",
    "soup= BeautifulSoup(document.content,\"xml\")\n",
    "# souped = soup.prettify()\n",
    "# print(soup.prettify())\n",
    "\n",
    "observedProperties = soup.find_all('observedProperty')\n",
    " \n",
    "print(observedProperties)\n",
    "\n",
    "observedProperties_notation = re.findall(r'\\d+',str(observedProperties))\n",
    "print(observedProperties_notation)"
   ]
  },
  {
   "cell_type": "code",
   "execution_count": 97,
   "metadata": {},
   "outputs": [
    {
     "name": "stdout",
     "output_type": "stream",
     "text": [
      "[<om:observedProperty xlink:href=\"http://codes.wmo.int/wmdr/ObservedVariableAtmosphere/192\" xlink:type=\"simple\"/>, <om:observedProperty xlink:href=\"http://codes.wmo.int/wmdr/ObservedVariableAtmosphere/194\" xlink:type=\"simple\"/>, <om:observedProperty xlink:href=\"http://codes.wmo.int/wmdr/ObservedVariableAtmosphere/195\" xlink:type=\"simple\"/>, <om:observedProperty xlink:href=\"http://codes.wmo.int/wmdr/ObservedVariableAtmosphere/196\" xlink:type=\"simple\"/>, <om:observedProperty xlink:href=\"http://codes.wmo.int/wmdr/ObservedVariableAtmosphere/201\" xlink:type=\"simple\"/>, <om:observedProperty xlink:href=\"http://codes.wmo.int/wmdr/ObservedVariableAtmosphere/203\" xlink:type=\"simple\"/>, <om:observedProperty xlink:href=\"http://codes.wmo.int/wmdr/ObservedVariableAtmosphere/205\" xlink:type=\"simple\"/>, <om:observedProperty xlink:href=\"http://codes.wmo.int/wmdr/ObservedVariableAtmosphere/216\" xlink:type=\"simple\"/>, <om:observedProperty xlink:href=\"http://codes.wmo.int/wmdr/ObservedVariableAtmosphere/224\" xlink:type=\"simple\"/>, <om:observedProperty xlink:href=\"http://codes.wmo.int/wmdr/ObservedVariableAtmosphere/224\" xlink:type=\"simple\"/>, <om:observedProperty xlink:href=\"http://codes.wmo.int/wmdr/ObservedVariableAtmosphere/248\" xlink:type=\"simple\"/>, <om:observedProperty xlink:href=\"http://codes.wmo.int/wmdr/ObservedVariableAtmosphere/251\" xlink:type=\"simple\"/>, <om:observedProperty xlink:href=\"http://codes.wmo.int/wmdr/ObservedVariableAtmosphere/262\" xlink:type=\"simple\"/>, <om:observedProperty xlink:href=\"http://codes.wmo.int/wmdr/ObservedVariableAtmosphere/284\" xlink:type=\"simple\"/>, <om:observedProperty xlink:href=\"http://codes.wmo.int/wmdr/ObservedVariableAtmosphere/284\" xlink:type=\"simple\"/>, <om:observedProperty xlink:href=\"http://codes.wmo.int/wmdr/ObservedVariableAtmosphere/284\" xlink:type=\"simple\"/>, <om:observedProperty xlink:href=\"http://codes.wmo.int/wmdr/ObservedVariableAtmosphere/318\" xlink:type=\"simple\"/>, <om:observedProperty xlink:href=\"http://codes.wmo.int/wmdr/ObservedVariableAtmosphere/437\" xlink:type=\"simple\"/>, <om:observedProperty xlink:href=\"http://codes.wmo.int/wmdr/ObservedVariableAtmosphere/445\" xlink:type=\"simple\"/>, <om:observedProperty xlink:href=\"http://codes.wmo.int/wmdr/ObservedVariableAtmosphere/497\" xlink:type=\"simple\"/>, <om:observedProperty xlink:href=\"http://codes.wmo.int/wmdr/ObservedVariableAtmosphere/499\" xlink:type=\"simple\"/>, <om:observedProperty xlink:href=\"http://codes.wmo.int/wmdr/ObservedVariableAtmosphere/501\" xlink:type=\"simple\"/>, <om:observedProperty xlink:href=\"http://codes.wmo.int/wmdr/ObservedVariableAtmosphere/502\" xlink:type=\"simple\"/>, <om:observedProperty xlink:href=\"http://codes.wmo.int/wmdr/ObservedVariableAtmosphere/571\" xlink:type=\"simple\"/>, <om:observedProperty xlink:href=\"http://codes.wmo.int/wmdr/ObservedVariableAtmosphere/573\" xlink:type=\"simple\"/>, <om:observedProperty xlink:href=\"http://codes.wmo.int/wmdr/ObservedVariableAtmosphere/12005\" xlink:type=\"simple\"/>, <om:observedProperty xlink:href=\"http://codes.wmo.int/wmdr/ObservedVariableAtmosphere/12005\" xlink:type=\"simple\"/>, <om:observedProperty xlink:href=\"http://codes.wmo.int/wmdr/ObservedVariableAtmosphere/12006\" xlink:type=\"simple\"/>, <om:observedProperty xlink:href=\"http://codes.wmo.int/wmdr/ObservedVariableAtmosphere/12006\" xlink:type=\"simple\"/>]\n",
      "<om:observedProperty xlink:href=\"http://codes.wmo.int/wmdr/ObservedVariableAtmosphere/194\" xlink:type=\"simple\"/>\n"
     ]
    }
   ],
   "source": [
    "#### Create json file with information to plot ####"
   ]
  },
  {
   "cell_type": "code",
   "execution_count": 98,
   "metadata": {},
   "outputs": [
    {
     "name": "stdout",
     "output_type": "stream",
     "text": [
      "['192', '194', '195', '196', '201', '203', '205', '216', '224', '224', '248', '251', '262', '284', '284', '284', '318', '437', '445', '497', '499', '501', '502', '571', '573', '12005', '12005', '12006', '12006']\n"
     ]
    }
   ],
   "source": []
  }
 ],
 "metadata": {
  "kernelspec": {
   "display_name": "Python 3",
   "language": "python",
   "name": "python3"
  },
  "language_info": {
   "codemirror_mode": {
    "name": "ipython",
    "version": 3
   },
   "file_extension": ".py",
   "mimetype": "text/x-python",
   "name": "python",
   "nbconvert_exporter": "python",
   "pygments_lexer": "ipython3",
   "version": "3.10.6"
  },
  "orig_nbformat": 4
 },
 "nbformat": 4,
 "nbformat_minor": 2
}
